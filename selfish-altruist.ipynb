{
 "cells": [
  {
   "cell_type": "markdown",
   "source": [
    "Notebook to implement/experiment BatchRunner"
   ],
   "metadata": {
    "collapsed": false
   }
  },
  {
   "cell_type": "code",
   "execution_count": 1,
   "metadata": {},
   "outputs": [],
   "source": [
    "import mesa\n",
    "import random\n",
    "\n",
    "from typing import Type, Callable\n",
    "from collections import defaultdict"
   ]
  },
  {
   "cell_type": "code",
   "execution_count": 2,
   "outputs": [],
   "source": [
    "class BaseSchedulerByFilteredType(mesa.time.BaseScheduler):\n",
    "\n",
    "    def __init__(self, model: mesa.Model) -> None:\n",
    "        super().__init__(model)\n",
    "        self.agents_by_type = defaultdict(dict)\n",
    "\n",
    "    def add(self, agent: mesa.Agent) -> None:\n",
    "        \"\"\"\n",
    "        Add an Agent object to the schedule\n",
    "\n",
    "        Args:\n",
    "            agent: An Agent to be added to the schedule.\n",
    "        \"\"\"\n",
    "        super().add(agent)\n",
    "        agent_class: type[mesa.Agent] = type(agent)\n",
    "        self.agents_by_type[agent_class][agent.unique_id] = agent\n",
    "\n",
    "    def get_type_count(\n",
    "            self,\n",
    "            type_class: Type[mesa.Agent],\n",
    "            filter_func: Callable[[mesa.Agent], bool] = None,\n",
    "    ) -> int:\n",
    "        \"\"\"\n",
    "        Returns the current number of agents of certain type in the queue that satisfy the filter function.\n",
    "        \"\"\"\n",
    "        count = 0\n",
    "        for agent in self.agents_by_type[type_class].values():\n",
    "            if filter_func is None or filter_func(agent):\n",
    "                count += 1\n",
    "        return count"
   ],
   "metadata": {
    "collapsed": false
   }
  },
  {
   "cell_type": "code",
   "execution_count": 3,
   "outputs": [],
   "source": [
    "class Patch(mesa.Agent):\n",
    "\n",
    "    def __init__(self, unique_id, pos, model):\n",
    "        \"\"\"\n",
    "        Creates a new patch of grass\n",
    "\n",
    "        Args:\n",
    "            fully_grown: (boolean) Whether the patch of grass is fully grown or not\n",
    "        \"\"\"\n",
    "        super().__init__(unique_id, model)\n",
    "        self.name = str()\n",
    "        self.pcolor = str()\n",
    "        self.pos = pos\n",
    "        self.fitness: float = 0\n",
    "\n",
    "        self.n_neighboring_altruists = 0  # N_A in paper\n",
    "        self.sum_fitness_selfish_in_neighborhood = 0\n",
    "        self.sum_fitness_altruists_in_neighborhood = 0\n",
    "        self.sum_fitness_harshness_in_neighborhood = 0\n",
    "        self.sum_total_fitness_in_neighborhood = 0\n",
    "        self.weight_fitness_selfish_in_neighborhood = 0\n",
    "        self.weight_fitness_altruists_in_neighborhood = 0\n",
    "        self.weight_fitness_harshness_in_neighborhood = 0\n",
    "\n",
    "    def n_neighboring_agents(self):\n",
    "        # print(\"position \" + str(self.pos))\n",
    "        n_neighbor_selfish = 0\n",
    "        n_neighbor_altruists = 0\n",
    "        n_neighbor_voids = 0\n",
    "        neighbor_iterator = self.model.grid.iter_neighbors(self.pos, moore=False, include_center=True, radius=1)\n",
    "        for neighbor in neighbor_iterator:\n",
    "            # print(str(neighbor.pos) + \":  \" + str(neighbor.name))\n",
    "            if neighbor.name == \"selfish\":\n",
    "                n_neighbor_selfish += 1\n",
    "            elif neighbor.name == \"altruist\":\n",
    "                n_neighbor_altruists += 1\n",
    "            if neighbor.name == \"void\":\n",
    "                n_neighbor_voids += 1\n",
    "        n_neigborhood_cells = n_neighbor_selfish + n_neighbor_altruists + n_neighbor_voids\n",
    "        # print(\"n_neigborhood_cells\")\n",
    "        # print(n_neigborhood_cells)\n",
    "\n",
    "        return n_neighbor_selfish, n_neighbor_altruists, n_neighbor_voids, n_neigborhood_cells\n",
    "\n",
    "    def calculate_fitness(self):\n",
    "        self.n_neighboring_altruists = self.n_neighboring_agents()[1]  # N_A in paper\n",
    "        n_neighbor_cells = self.n_neighboring_agents()[3]\n",
    "        c = self.model.cost_of_altruism\n",
    "        b = self.model.benefit_of_altruism\n",
    "        fitness_void = self.model.harshness\n",
    "\n",
    "        if self.name == \"altruist\":\n",
    "            return 1 - c + b * self.n_neighboring_altruists / n_neighbor_cells\n",
    "        elif self.name == \"selfish\":\n",
    "            return 1 + b * (self.n_neighboring_altruists / n_neighbor_cells)\n",
    "        elif self.name == \"void\":\n",
    "            return fitness_void\n",
    "\n",
    "    def step(self):\n",
    "        n_selfish, n_altruists, n_voids, n_cells = self.n_neighboring_agents()\n",
    "        self.fitness = self.calculate_fitness()\n",
    "        self.model.datacollector.add_table_row(\n",
    "            \"Fitness\", {\n",
    "                \"position\": self.pos,\n",
    "                \"agent\": self.name,\n",
    "                \"fitness\": self.calculate_fitness(),\n",
    "            }\n",
    "        )\n",
    "\n",
    "    # print(\"position \" + str(self.pos) + \" fitness \" + str(self.name) + \" = \" + str(self.fitness()) + \" N_A = \" + str(\n",
    "    #    n_altruists))\n",
    "    # print(\"n_altruists\")\n",
    "    # print(n_altruists)\n",
    "    # print(\"n_altruists/5\")\n",
    "    # print(float(n_altruists / n_cells))"
   ],
   "metadata": {
    "collapsed": false
   }
  },
  {
   "cell_type": "code",
   "execution_count": 4,
   "outputs": [],
   "source": [
    "class SelfishAltruist(mesa.Model):\n",
    "    n_grid_cells_height = 40\n",
    "    n_grid_cells_width = 40\n",
    "    canvas_width = 400\n",
    "    canvas_height = canvas_width * (n_grid_cells_height / n_grid_cells_width)\n",
    "    altruistic_probability = 0.26\n",
    "    selfish_probability = 0.26\n",
    "    cost_of_altruism = 0.13\n",
    "    benefit_of_altruism = 0.5\n",
    "    disease = 0.0\n",
    "    harshness = 0.0\n",
    "\n",
    "    verbose_0 = True  # agent count\n",
    "    verbose_1 = True  # agent_id activation move and eat\n",
    "    verbose_2 = False  # agent death\n",
    "    verbose_3 = False  # agent birth\n",
    "    verbose_4 = False  # agent life span table\n",
    "    verbose_5 = False  # agent average life span\n",
    "    verbose_6 = False  # table agent count and cumulative energy per type\n",
    "    verbose_7 = False  # Fitness values and tooltips in grid\n",
    "\n",
    "    description = (\n",
    "        \"A model for simulating Selfish-Altruist behavior.\"\n",
    "    )\n",
    "\n",
    "    def __init__(\n",
    "            self,\n",
    "            n_grid_cells_width=n_grid_cells_width,\n",
    "            n_grid_cells_height=n_grid_cells_height,\n",
    "            altruistic_probability=altruistic_probability,\n",
    "            selfish_probability=selfish_probability,\n",
    "            cost_of_altruism=cost_of_altruism,\n",
    "            benefit_of_altruism=benefit_of_altruism,\n",
    "            disease=disease,\n",
    "            harshness=harshness\n",
    "\n",
    "    ):\n",
    "        \"\"\"\n",
    "        Create a new Predator-Prey model with the given parameters.\n",
    "\n",
    "        Args:\n",
    "        \"\"\"\n",
    "        super().__init__()\n",
    "        # Set parameters\n",
    "        self.n_grid_cells_width = n_grid_cells_width\n",
    "        self.n_grid_cells_height = n_grid_cells_height\n",
    "\n",
    "        # fitness parameters\n",
    "        self.harshness = harshness  # =/= to fitnes of a Void patch\n",
    "        self.disease = disease\n",
    "\n",
    "        # selfish-altruistic\n",
    "        self.altruistic_probability = altruistic_probability\n",
    "        self.selfish_probability = selfish_probability\n",
    "        self.cost_of_altruism = cost_of_altruism\n",
    "        self.benefit_of_altruism = benefit_of_altruism\n",
    "\n",
    "        self.schedule = BaseSchedulerByFilteredType(self)\n",
    "\n",
    "        self.grid = mesa.space.SingleGrid(self.n_grid_cells_width, self.n_grid_cells_height, torus=True)\n",
    "        self.datacollector = mesa.DataCollector(\n",
    "            model_reporters={\n",
    "                \"Selfish\": lambda m: m.schedule.get_type_count(Patch, lambda g: g.name == \"selfish\"),\n",
    "                \"Altruist\": lambda m: m.schedule.get_type_count(Patch, lambda g: g.name == \"altruist\"),\n",
    "                \"Void\": lambda m: m.schedule.get_type_count(Patch, lambda g: g.name == \"void\"),\n",
    "            },\n",
    "            tables={\n",
    "                \"Fitness\": [\"position\", \"agent\", \"fitness\"],\n",
    "                \"Lottery\": [\"position\", \"current agent\", \"P[selfish]\", \"P[altruists]\", \"P[harshness]\"],\n",
    "            },\n",
    "        )\n",
    "\n",
    "        # initialize patches\n",
    "        for _, x, y in self.grid.coord_iter():\n",
    "            patch = Patch(self.next_id(), (x, y), self)\n",
    "            self.grid.place_agent(patch, (x, y))\n",
    "            self.schedule.add(patch)\n",
    "            ptype = random.uniform(0, 1)\n",
    "            if ptype < self.altruistic_probability:\n",
    "                patch.benefit_out = 0\n",
    "                patch.name = \"altruist\"\n",
    "                patch.pcolor = \"blue\"\n",
    "            elif ptype < self.altruistic_probability + self.selfish_probability:\n",
    "                patch.benefit_out = 1\n",
    "                patch.name = \"selfish\"\n",
    "                patch.pcolor = \"red\"\n",
    "            else:\n",
    "                patch.benefit_out = 0\n",
    "                patch.name = \"void\"\n",
    "                patch.pcolor = \"black\"\n",
    "                patch.altruism_benefit = 0\n",
    "\n",
    "        self.running = True\n",
    "        self.datacollector.collect(self)\n",
    "\n",
    "    def step(self):\n",
    "\n",
    "        self.schedule.step()  # Base schedule to find out fitness per cell/agent\n",
    "        # collect fitness per cell/agent in Table\n",
    "        self.datacollector.collect(self)\n",
    "        # print(\"round 1: calculate fitness per cell:\")\n",
    "        # print(self.datacollector.get_table_dataframe(\"Fitness\"))\n",
    "\n",
    "        grid_iterator = self.grid.coord_iter()\n",
    "        for agent, x, y in grid_iterator:\n",
    "            position_agent = (x, y)\n",
    "            # print(position_agent)\n",
    "            # print(agent.name)\n",
    "            # initialize al fitness values to zero\n",
    "            agent.sum_fitness_selfish_in_neighborhood = 0\n",
    "            agent.sum_fitness_altruists_in_neighborhood = 0\n",
    "            agent.sum_fitness_harshness_in_neighborhood = 0\n",
    "            agent.sum_total_fitness_in_neighborhood = 0\n",
    "            agent.weight_fitness_selfish_in_neighborhood = 0\n",
    "            agent.weight_fitness_altruists_in_neighborhood = 0\n",
    "            agent.weight_fitness_harshness_in_neighborhood = 0\n",
    "            neighbor_iterator = self.grid.iter_neighbors(position_agent, moore=False, include_center=True, radius=1)\n",
    "            for neighbor in neighbor_iterator:\n",
    "                if neighbor.name == \"selfish\":\n",
    "                    agent.sum_fitness_selfish_in_neighborhood += neighbor.fitness\n",
    "                elif neighbor.name == \"altruist\":\n",
    "                    agent.sum_fitness_altruists_in_neighborhood += neighbor.fitness\n",
    "                elif neighbor.name == \"void\":\n",
    "                    agent.sum_fitness_harshness_in_neighborhood += neighbor.fitness\n",
    "            agent.sum_total_fitness_in_neighborhood = agent.sum_fitness_selfish_in_neighborhood + \\\n",
    "                                                      agent.sum_fitness_altruists_in_neighborhood + \\\n",
    "                                                      agent.sum_fitness_harshness_in_neighborhood + self.disease\n",
    "            if agent.sum_total_fitness_in_neighborhood > 0:\n",
    "                # lottery weights\n",
    "                agent.weight_fitness_selfish_in_neighborhood = agent.sum_fitness_selfish_in_neighborhood / \\\n",
    "                                                               agent.sum_total_fitness_in_neighborhood\n",
    "                agent.weight_fitness_altruists_in_neighborhood = agent.sum_fitness_altruists_in_neighborhood / \\\n",
    "                                                                 agent.sum_total_fitness_in_neighborhood\n",
    "                agent.weight_fitness_harshness_in_neighborhood = (\n",
    "                                                                         agent.sum_fitness_harshness_in_neighborhood + self.disease) / \\\n",
    "                                                                 agent.sum_total_fitness_in_neighborhood\n",
    "            else:\n",
    "                agent.weight_fitness_selfish_in_neighborhood = 0\n",
    "                agent.weight_fitness_altruists_in_neighborhood = 0\n",
    "                agent.weight_fitness_harshness_in_neighborhood = 0\n",
    "\n",
    "            self.datacollector.add_table_row(\n",
    "                \"Lottery\", {\n",
    "                    \"position\": position_agent,\n",
    "                    \"current agent\": agent.name,\n",
    "                    \"P[selfish]\": agent.weight_fitness_selfish_in_neighborhood,\n",
    "                    \"P[altruists]\": agent.weight_fitness_altruists_in_neighborhood,\n",
    "                    \"P[harshness]\": agent.weight_fitness_harshness_in_neighborhood,\n",
    "                }\n",
    "            )\n",
    "        # print(\"round 2: calculate probabilities for next step\")\n",
    "        # print(self.datacollector.get_table_dataframe(\"Lottery\"))\n",
    "        grid_iterator = self.grid.coord_iter()\n",
    "        for agent, x, y in grid_iterator:\n",
    "            breed_chance = random.uniform(0, 1)\n",
    "            if breed_chance < agent.weight_fitness_altruists_in_neighborhood:\n",
    "                agent.benefit_out = 0  # todo: set into fitness equation\n",
    "                agent.name = \"altruist\"\n",
    "                agent.pcolor = \"blue\"\n",
    "            elif breed_chance < agent.weight_fitness_altruists_in_neighborhood + agent.weight_fitness_selfish_in_neighborhood:\n",
    "                agent.benefit_out = 1\n",
    "                agent.name = \"selfish\"\n",
    "                agent.pcolor = \"red\"\n",
    "            else:\n",
    "                agent.benefit_out = 0\n",
    "                agent.name = \"void\"\n",
    "                agent.pcolor = \"black\"\n",
    "                agent.altruism_benefit = 0\n",
    "                agent.fitness = self.harshness\n",
    "                agent.weight_fitness_selfish_in_neighborhood = 0\n",
    "                agent.weight_fitness_altruists_in_neighborhood = 0\n",
    "                agent.weight_fitness_harshness_in_neighborhood = 0\n",
    "                agent.sum_fitness_selfish_in_neighborhood = 0\n",
    "                agent.sum_fitness_altruists_in_neighborhood = 0\n",
    "                agent.sum_fitness_harshness_in_neighborhood = 0\n",
    "        df_selfish = self.datacollector.get_model_vars_dataframe()[\"Selfish\"]\n",
    "        df_altruist = self.datacollector.get_model_vars_dataframe()[\"Altruist\"]\n",
    "        if df_selfish.iloc[-1] == 0 or df_altruist.iloc[-1] == 0:\n",
    "            # https://stackoverflow.com/questions/34166030/obtaining-last-value-of-dataframe-column-without-index\n",
    "            self.running = False\n"
   ],
   "metadata": {
    "collapsed": false
   }
  },
  {
   "cell_type": "code",
   "execution_count": 5,
   "metadata": {},
   "outputs": [],
   "source": [
    "empty_model = SelfishAltruist()\n",
    "empty_model.step()"
   ]
  },
  {
   "cell_type": "code",
   "execution_count": 6,
   "metadata": {},
   "outputs": [],
   "source": [
    "# For a jupyter notebook add the following line:\n",
    "%matplotlib inline\n",
    "\n",
    "# The below is needed for both notebooks and scripts\n",
    "import matplotlib.pyplot as plt"
   ]
  },
  {
   "cell_type": "code",
   "execution_count": 7,
   "metadata": {},
   "outputs": [],
   "source": [
    "# This runs the model 100 times, each model executing 10 steps.\n",
    "for j in range(100):\n",
    "    # Run the model\n",
    "    model = SelfishAltruist()\n",
    "    for i in range(10):\n",
    "        model.step()"
   ]
  },
  {
   "cell_type": "code",
   "execution_count": 8,
   "metadata": {},
   "outputs": [
    {
     "ename": "TypeError",
     "evalue": "object of type 'Patch' has no len()",
     "output_type": "error",
     "traceback": [
      "\u001B[0;31m---------------------------------------------------------------------------\u001B[0m",
      "\u001B[0;31mTypeError\u001B[0m                                 Traceback (most recent call last)",
      "Cell \u001B[0;32mIn [8], line 6\u001B[0m\n\u001B[1;32m      4\u001B[0m \u001B[38;5;28;01mfor\u001B[39;00m cell \u001B[38;5;129;01min\u001B[39;00m model\u001B[38;5;241m.\u001B[39mgrid\u001B[38;5;241m.\u001B[39mcoord_iter():\n\u001B[1;32m      5\u001B[0m     cell_content, x, y \u001B[38;5;241m=\u001B[39m cell\n\u001B[0;32m----> 6\u001B[0m     agent_count \u001B[38;5;241m=\u001B[39m \u001B[38;5;28;43mlen\u001B[39;49m\u001B[43m(\u001B[49m\u001B[43mcell_content\u001B[49m\u001B[43m)\u001B[49m\n\u001B[1;32m      7\u001B[0m     agent_counts[x][y] \u001B[38;5;241m=\u001B[39m agent_count\n\u001B[1;32m      8\u001B[0m plt\u001B[38;5;241m.\u001B[39mimshow(agent_counts, interpolation\u001B[38;5;241m=\u001B[39m\u001B[38;5;124m\"\u001B[39m\u001B[38;5;124mnearest\u001B[39m\u001B[38;5;124m\"\u001B[39m)\n",
      "\u001B[0;31mTypeError\u001B[0m: object of type 'Patch' has no len()"
     ]
    }
   ],
   "source": [
    "import numpy as np\n",
    "\n",
    "agent_counts = np.zeros((model.grid.width, model.grid.height))\n",
    "for cell in model.grid.coord_iter():\n",
    "    cell_content, x, y = cell\n",
    "    agent_count = len(cell_content)\n",
    "    agent_counts[x][y] = agent_count\n",
    "plt.imshow(agent_counts, interpolation=\"nearest\")\n",
    "plt.colorbar()\n",
    "\n",
    "# If running from a text editor or IDE, remember you'll need the following:\n",
    "# plt.show()"
   ]
  },
  {
   "cell_type": "markdown",
   "metadata": {},
   "source": [
    "### Batch Run\n",
    "\n",
    "Like we mentioned above, you usually won't run a model only once, but multiple times, with fixed parameters to find the overall distributions the model generates, and with varying parameters to analyze how they drive the model's outputs and behaviors. Instead of needing to write nested for-loops for each model, Mesa provides a [`batch_run`](https://github.com/projectmesa/mesa/blob/main/mesa/batchrunner.py) function which automates it for you."
   ]
  },
  {
   "cell_type": "markdown",
   "metadata": {},
   "source": [
    "The batch runner also requires an additional variable `self.running` for the MoneyModel class. This variable enables conditional shut off of the model once a condition is met. In this example it will be set as True indefinitely."
   ]
  },
  {
   "cell_type": "markdown",
   "metadata": {},
   "source": [
    "We call `batch_run` with the following arguments:\n",
    "\n",
    "* `model_cls`\n",
    "<br/><br/>\n",
    "The model class that is used for the batch run.\n",
    "<br/><br/>\n",
    "\n",
    "* `parameters`\n",
    "<br/><br/>\n",
    "A dictionary containing all the parameters of the model class and desired values to use for the batch run as key-value pairs. Each value can either be fixed ( e.g. `{\"height\": 10, \"width\": 10}`) or an iterable (e.g. `{\"N\": range(10, 500, 10)}`). `batch_run` will then generate all possible parameter combinations based on this dictionary and run the model `iterations` times for each combination.\n",
    "<br/><br/>\n",
    "\n",
    "* `number_processes`\n",
    "<br/><br/>\n",
    "If not specified, defaults to 1. Set it to `None` to use all the available processors.\n",
    "<br/><br/>\n",
    "Note: Multiprocessing does make debugging challenging. If your parameter sweeps are resulting in unexpected errors set `number_processes = 1`.\n",
    "<br/><br/>\n",
    "\n",
    "* `iterations`\n",
    "<br/><br/>\n",
    "The number of iterations to run each parameter combination for. Optional. If not specified, defaults to 1.<br/><br/>\n",
    "* `data_collection_period`\n",
    "<br/><br/>\n",
    "The length of the period (number of steps) after which the model and agent reporters collect data. Optional. If not specified, defaults to -1, i.e. only at the end of each episode.\n",
    "<br/><br/>\n",
    "\n",
    "* `max_steps`\n",
    "<br/><br/>\n",
    "The maximum number of time steps after which the model halts. An episode does either end when `self.running` of the model class is set to `False` or when `model.schedule.steps == max_steps` is reached. Optional. If not specified, defaults to 1000.\n",
    "<br/><br/>\n",
    "\n",
    "* `display_progress`\n",
    "<br/><br/>\n",
    "Display the batch run progress. Optional. If not specified, defaults to `True`."
   ]
  },
  {
   "cell_type": "markdown",
   "metadata": {},
   "source": [
    "In the following example, we hold the height and width fixed, and vary the number of agents. We tell the batch runner to run 5 instantiations of the model with each number of agents, and to run each for 100 steps. \n",
    "\n",
    "We want to keep track of\n",
    "\n",
    "1. the Gini coefficient value and\n",
    "2. the individual agent's wealth development.\n",
    "\n",
    "Since for the latter changes at each time step might be interesting, we set `data_collection_period = 1`.\n",
    "\n",
    "Note: The total number of runs is 245 (= 49 different populations * 5 iterations per population). However, the resulting list of dictionaries will be of length 6186250 (= 250 average agents per population * 49 different populations * 5 iterations per population * 101 steps per iteration)."
   ]
  },
  {
   "cell_type": "code",
   "execution_count": 9,
   "metadata": {},
   "outputs": [
    {
     "name": "stderr",
     "output_type": "stream",
     "text": [
      "100%|██████████| 5/5 [00:10<00:00,  2.09s/it]\n"
     ]
    }
   ],
   "source": [
    "params = {\"cost_of_altruism\": 0.13, \"benefit_of_altruism\": 0.48}\n",
    "\n",
    "results = mesa.batch_run(\n",
    "    SelfishAltruist,\n",
    "    parameters=params,\n",
    "    iterations=5,\n",
    "    max_steps=100,\n",
    "    number_processes=1,\n",
    "    data_collection_period=1,\n",
    "    display_progress=True,\n",
    ")"
   ]
  },
  {
   "cell_type": "markdown",
   "metadata": {},
   "source": [
    "To further analyze the return of the `batch_run` function, we convert the list of dictionaries to a Pandas DataFrame and print its keys."
   ]
  },
  {
   "cell_type": "code",
   "execution_count": 10,
   "metadata": {},
   "outputs": [
    {
     "name": "stdout",
     "output_type": "stream",
     "text": [
      "Index(['RunId', 'iteration', 'Step', 'cost_of_altruism', 'benefit_of_altruism',\n",
      "       'Selfish', 'Altruist', 'Void'],\n",
      "      dtype='object')\n"
     ]
    }
   ],
   "source": [
    "import pandas as pd\n",
    "\n",
    "results_df = pd.DataFrame(results)\n",
    "print(results_df.keys())"
   ]
  },
  {
   "cell_type": "markdown",
   "metadata": {},
   "source": [
    "First, we want to take a closer look at how the Gini coefficient at the end of each episode changes as we increase the size of the population. For this, we filter our results to only contain the data of one agent (the Gini coefficient will be the same for the entire population at any time) at the 100th step of each episode and then scatter-plot the values for the Gini coefficient over the the number of agents. Notice there are five values for each population size since we set `iterations=5` when calling the batch run."
   ]
  },
  {
   "cell_type": "code",
   "execution_count": 29,
   "metadata": {},
   "outputs": [
    {
     "data": {
      "text/plain": "<matplotlib.collections.PathCollection at 0x7f250a8da3d0>"
     },
     "execution_count": 29,
     "metadata": {},
     "output_type": "execute_result"
    },
    {
     "data": {
      "text/plain": "<Figure size 640x480 with 1 Axes>",
      "image/png": "[encoded data removed]"
     },
     "metadata": {},
     "output_type": "display_data"
    }
   ],
   "source": [
    "results_filtered = results_df[(results_df.RunId == 0) & (results_df.Step == 100)]\n",
    "C_values = results_filtered.cost_of_altruism\n",
    "gini_values = results_filtered.Altruist.values\n",
    "plt.scatter(C_values, gini_values)"
   ]
  },
  {
   "cell_type": "markdown",
   "metadata": {},
   "source": [
    "Second, we want to display the agent's wealth at each time step of one specific episode. To do this, we again filter our large data frame, this time with a fixed number of agents and only for a specific iteration of that population.\n",
    "To print the results, we convert the filtered data frame to a string specifying the desired columns to print. \n",
    "\n",
    "Pandas has built-in functions to convert to a lot of different data formats. For example, to display as a table in a Jupyter Notebook, we can use the `to_html()` function which takes the same arguments as `to_string()` (see commented lines)."
   ]
  },
  {
   "cell_type": "code",
   "execution_count": 28,
   "metadata": {},
   "outputs": [
    {
     "name": "stdout",
     "output_type": "stream",
     "text": [
      " Step  AgentID  Wealth\n",
      "    0        0       1\n",
      "    0        1       1\n",
      "    0        2       1\n",
      "    0        3       1\n",
      "    0        4       1\n",
      "    0        5       1\n",
      "    0        6       1\n",
      "    0        7       1\n",
      "    0        8       1\n",
      "    0        9       1\n",
      "    1        0       2\n",
      "    1        1       1\n",
      "  ...      ...     ...\n",
      "   99        8       0\n",
      "   99        9       2\n",
      "  100        0       0\n",
      "  100        1       3\n",
      "  100        2       1\n",
      "  100        3       1\n",
      "  100        4       0\n",
      "  100        5       2\n",
      "  100        6       1\n",
      "  100        7       0\n",
      "  100        8       0\n",
      "  100        9       2\n"
     ]
    }
   ],
   "source": [
    "# First, we filter the results\n",
    "one_episode_wealth = results_df[(results_df.N == 10) & (results_df.iteration == 2)]\n",
    "# Then, print the columns of interest of the filtered data frame\n",
    "print(\n",
    "    one_episode_wealth.to_string(\n",
    "        index=False, columns=[\"Step\", \"AgentID\", \"Wealth\"], max_rows=25\n",
    "    )\n",
    ")\n",
    "# For a prettier display we can also convert the data frame to html, uncomment to test in a Jupyter Notebook\n",
    "# from IPython.display import display, HTML\n",
    "# display(HTML(one_episode_wealth.to_html(index=False, columns=['Step', 'AgentID', 'Wealth'], max_rows=25)))"
   ]
  },
  {
   "cell_type": "markdown",
   "metadata": {},
   "source": [
    "Lastly, we want to take a look at the development of the Gini coefficient over the course of one iteration. Filtering and printing looks almost the same as above, only this time we choose a different episode."
   ]
  },
  {
   "cell_type": "code",
   "execution_count": 29,
   "metadata": {},
   "outputs": [
    {
     "name": "stdout",
     "output_type": "stream",
     "text": [
      " Step  Gini\n",
      "    0  0.00\n",
      "    1  0.00\n",
      "    2  0.00\n",
      "    3  0.00\n",
      "    4  0.18\n",
      "    5  0.18\n",
      "    6  0.32\n",
      "    7  0.32\n",
      "    8  0.32\n",
      "    9  0.32\n",
      "   10  0.32\n",
      "   11  0.32\n",
      "  ...   ...\n",
      "   89  0.54\n",
      "   90  0.54\n",
      "   91  0.54\n",
      "   92  0.54\n",
      "   93  0.54\n",
      "   94  0.54\n",
      "   95  0.54\n",
      "   96  0.54\n",
      "   97  0.54\n",
      "   98  0.54\n",
      "   99  0.54\n",
      "  100  0.54\n"
     ]
    }
   ],
   "source": [
    "results_one_episode = results_df[\n",
    "    (results_df.N == 10) & (results_df.iteration == 1) & (results_df.AgentID == 0)\n",
    "]\n",
    "print(results_one_episode.to_string(index=False, columns=[\"Step\", \"Gini\"], max_rows=25))"
   ]
  },
  {
   "cell_type": "markdown",
   "metadata": {},
   "source": [
    "### Happy Modeling!\n",
    "\n",
    "This document is a work in progress.  If you see any errors, exclusions or have any problems please contact [us](https://github.com/projectmesa/mesa/issues)."
   ]
  },
  {
   "cell_type": "markdown",
   "metadata": {},
   "source": [
    "`virtual environment`: http://docs.python-guide.org/en/latest/dev/virtualenvs/\n",
    "\n",
    "[Comer2014] Comer, Kenneth W. “Who Goes First? An Examination of the Impact of Activation on Outcome Behavior in AgentBased Models.” George Mason University, 2014. http://mars.gmu.edu/bitstream/handle/1920/9070/Comer_gmu_0883E_10539.pdf\n",
    "\n",
    "[Dragulescu2002] Drăgulescu, Adrian A., and Victor M. Yakovenko. “Statistical Mechanics of Money, Income, and Wealth: A Short Survey.” arXiv Preprint Cond-mat/0211175, 2002. http://arxiv.org/abs/cond-mat/0211175."
   ]
  },
  {
   "cell_type": "code",
   "execution_count": null,
   "outputs": [],
   "source": [],
   "metadata": {
    "collapsed": false
   }
  }
 ],
 "metadata": {
  "anaconda-cloud": {},
  "kernelspec": {
   "display_name": "Python 3",
   "language": "python",
   "name": "python3"
  },
  "language_info": {
   "codemirror_mode": {
    "name": "ipython",
    "version": 3
   },
   "file_extension": ".py",
   "mimetype": "text/x-python",
   "name": "python",
   "nbconvert_exporter": "python",
   "pygments_lexer": "ipython3",
   "version": "3.9.6"
  },
  "widgets": {
   "state": {},
   "version": "1.1.2"
  }
 },
 "nbformat": 4,
 "nbformat_minor": 4
}
